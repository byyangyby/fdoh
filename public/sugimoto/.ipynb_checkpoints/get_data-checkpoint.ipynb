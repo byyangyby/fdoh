{
 "metadata": {
  "name": ""
 },
 "nbformat": 3,
 "nbformat_minor": 0,
 "worksheets": [
  {
   "cells": [
    {
     "cell_type": "code",
     "collapsed": false,
     "input": [
      "# Get today's date\n",
      "import time\n",
      "today = time.strftime(\"%Y-%m-%d\")\n",
      "\n",
      "from datetime import datetime, timedelta\n",
      "yesterday = (datetime.today() - timedelta(days=1)).strftime(\"%b %d %Y\")"
     ],
     "language": "python",
     "metadata": {},
     "outputs": [],
     "prompt_number": 1
    },
    {
     "cell_type": "code",
     "collapsed": false,
     "input": [
      "# Specify which directories we'll be using (different on Ben vs. Joe-linux vs. Joe-Windows)\n",
      "import platform\n",
      "private = '/home/joebrew/Documents/private/sugimoto'\n",
      "public = '/home/joebrew/Documents/fdoh/public/sugimoto'\n",
      "downloads = '/home/joebrew/Documents/private/sugimoto/downloads'"
     ],
     "language": "python",
     "metadata": {},
     "outputs": [],
     "prompt_number": 2
    },
    {
     "cell_type": "code",
     "collapsed": false,
     "input": [
      "# Import necessary libraries\n",
      "import mechanize\n",
      "import cookielib\n",
      "from BeautifulSoup import BeautifulSoup\n",
      "import html2text\n",
      "import pandas as pd\n",
      "import subprocess\n",
      "import rpy2.robjects as robjects"
     ],
     "language": "python",
     "metadata": {},
     "outputs": [],
     "prompt_number": 3
    },
    {
     "cell_type": "code",
     "collapsed": false,
     "input": [
      "# Run the r script to get the dates and URLs for today's data download\n",
      "import os\n",
      "os.chdir(public)\n",
      "robjects.r['source'](\"make_links.R\")"
     ],
     "language": "python",
     "metadata": {},
     "outputs": [
      {
       "metadata": {},
       "output_type": "pyout",
       "prompt_number": 4,
       "text": [
        "<ListVector - Python:0x7f3739658cf8 / R:0x3f19120>\n",
        "[StrVector, Vector]\n",
        "  value: <class 'rpy2.robjects.vectors.StrVector'>\n",
        "  <StrVector - Python:0x7f373966b440 / R:0x3d6d0e8>\n",
        "[str]\n",
        "  visible: <class 'rpy2.robjects.vectors.Vector'>\n",
        "  <Vector - Python:0x7f373966b488 / R:0x22414a8>\n",
        "[       1]"
       ]
      }
     ],
     "prompt_number": 4
    },
    {
     "cell_type": "code",
     "collapsed": false,
     "input": [
      "# Read in which links I need for today\n",
      "import pandas as pd\n",
      "os.chdir(public)\n",
      "sugimoto_links = pd.read_csv('links_to_download.csv')"
     ],
     "language": "python",
     "metadata": {},
     "outputs": [],
     "prompt_number": 5
    },
    {
     "cell_type": "code",
     "collapsed": false,
     "input": [
      "# Browser\n",
      "br = mechanize.Browser()\n",
      "\n",
      "# Cookie Jar\n",
      "cj = cookielib.LWPCookieJar()\n",
      "br.set_cookiejar(cj)"
     ],
     "language": "python",
     "metadata": {},
     "outputs": [],
     "prompt_number": 6
    },
    {
     "cell_type": "code",
     "collapsed": false,
     "input": [
      "# Browser options\n",
      "br.set_handle_equiv(True)\n",
      "br.set_handle_gzip(True)\n",
      "br.set_handle_redirect(True)\n",
      "br.set_handle_referer(True)\n",
      "br.set_handle_robots(False)\n",
      "br.set_handle_refresh(mechanize._http.HTTPRefreshProcessor(), max_time=1)\n",
      "\n",
      "br.addheaders = [('User-agent', 'Chrome')]"
     ],
     "language": "python",
     "metadata": {},
     "outputs": [
      {
       "output_type": "stream",
       "stream": "stderr",
       "text": [
        "-c:3: UserWarning: gzip transfer encoding is experimental!\n"
       ]
      }
     ],
     "prompt_number": 7
    },
    {
     "cell_type": "code",
     "collapsed": false,
     "input": [
      "# The site we will navigate into, handling it's session\n",
      "br.open('https://www.essencefl.com/florida_5_1_14/servlet/Login')\n",
      "#br.open('https://github.com/login')\n",
      "\n",
      "# View available forms\n",
      "#for f in br.forms():\n",
      "#    print f\n",
      "\n",
      "# Select the second (index one) form (the first form is a search query box)\n",
      "br.select_form(nr=0)"
     ],
     "language": "python",
     "metadata": {},
     "outputs": [],
     "prompt_number": 8
    },
    {
     "cell_type": "code",
     "collapsed": false,
     "input": [
      "# Read in credentials\n",
      "os.chdir(private)\n",
      "pu = pd.read_csv('pu.csv', dtype = 'string')"
     ],
     "language": "python",
     "metadata": {},
     "outputs": [],
     "prompt_number": 9
    },
    {
     "cell_type": "code",
     "collapsed": false,
     "input": [
      "u = list(pu['u'])[0]\n",
      "p = list(pu['p'])[0]"
     ],
     "language": "python",
     "metadata": {},
     "outputs": [],
     "prompt_number": 10
    },
    {
     "cell_type": "code",
     "collapsed": false,
     "input": [
      "# User credentials\n",
      "br.form['j_username'] = u\n",
      "br.form['j_password'] = p\n",
      "\n",
      "# Login\n",
      "br.submit()"
     ],
     "language": "python",
     "metadata": {},
     "outputs": [
      {
       "metadata": {},
       "output_type": "pyout",
       "prompt_number": 11,
       "text": [
        "<response_seek_wrapper at 0x7f3738eb3f38 whose wrapped object = <closeable_response at 0x7f3739203950 whose fp = <socket._fileobject object at 0x7f3738ecf2d0>>>"
       ]
      }
     ],
     "prompt_number": 11
    },
    {
     "cell_type": "code",
     "collapsed": false,
     "input": [
      "# Set working directory to private downloads folder\n",
      "os.chdir(downloads)"
     ],
     "language": "python",
     "metadata": {},
     "outputs": [],
     "prompt_number": 12
    },
    {
     "cell_type": "code",
     "collapsed": false,
     "input": [
      "nrow = sugimoto_links.shape[0]"
     ],
     "language": "python",
     "metadata": {},
     "outputs": [],
     "prompt_number": 15
    },
    {
     "cell_type": "code",
     "collapsed": false,
     "input": [
      "# Get and write gi data\n",
      "for i in range(0,nrow,1):\n",
      "    my_file = br.open(sugimoto_links[0:]['gi'][i])\n",
      "    # Write a text file\n",
      "    f = open('gi'+sugimoto_links[0:]['date'][i]+'.txt', 'w')\n",
      "    f.write(my_file.read())\n",
      "    f.close()"
     ],
     "language": "python",
     "metadata": {},
     "outputs": [],
     "prompt_number": 16
    },
    {
     "cell_type": "code",
     "collapsed": false,
     "input": [
      "# Get and write ili data\n",
      "for i in range(0,nrow,1):\n",
      "    my_file = br.open(sugimoto_links[0:]['ili'][i])\n",
      "    # Write a text file\n",
      "    f = open('ili'+sugimoto_links[0:]['date'][i]+'.txt', 'w')\n",
      "    f.write(my_file.read())\n",
      "    f.close()"
     ],
     "language": "python",
     "metadata": {},
     "outputs": [],
     "prompt_number": 17
    },
    {
     "cell_type": "code",
     "collapsed": false,
     "input": [
      "# Get and write injury data\n",
      "for i in range(0,nrow,1):\n",
      "    my_file = br.open(sugimoto_links[0:]['injury'][i])\n",
      "    # Write a text file\n",
      "    f = open('injury'+sugimoto_links[0:]['date'][i]+'.txt', 'w')\n",
      "    f.write(my_file.read())\n",
      "    f.close()"
     ],
     "language": "python",
     "metadata": {},
     "outputs": [],
     "prompt_number": 18
    },
    {
     "cell_type": "code",
     "collapsed": false,
     "input": [
      "# Get and write alless data\n",
      "for i in range(0,nrow,1):\n",
      "    my_file = br.open(sugimoto_links[0:]['alless'][i])\n",
      "    # Write a text file\n",
      "    f = open('alless'+sugimoto_links[0:]['date'][i]+'.txt', 'w')\n",
      "    f.write(my_file.read())\n",
      "    f.close()"
     ],
     "language": "python",
     "metadata": {},
     "outputs": [],
     "prompt_number": 19
    },
    {
     "cell_type": "code",
     "collapsed": false,
     "input": [],
     "language": "python",
     "metadata": {},
     "outputs": []
    }
   ],
   "metadata": {}
  }
 ]
}